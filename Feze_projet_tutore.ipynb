{
 "cells": [
  {
   "cell_type": "markdown",
   "id": "dca78425",
   "metadata": {},
   "source": [
    "# **DEEP LEARNING DU CANCER**"
   ]
  },
  {
   "cell_type": "markdown",
   "id": "fff6d0e1",
   "metadata": {},
   "source": [
    "### *librairie*"
   ]
  },
  {
   "cell_type": "code",
   "execution_count": 1,
   "id": "4a53c2b2",
   "metadata": {},
   "outputs": [],
   "source": [
    "import numpy as np\n",
    "import pandas as pd\n",
    "import matplotlib.pyplot as plt\n",
    "import splitfolders\n",
    "import tensorflow as tf\n",
    "from keras.models import Sequential\n",
    "from keras.layers import Conv2D,MaxPooling2D,BatchNormalization,Flatten,Dense"
   ]
  },
  {
   "cell_type": "markdown",
   "id": "6be6f0ed",
   "metadata": {},
   "source": [
    "### *section du dataset en train et test*"
   ]
  },
  {
   "cell_type": "code",
   "execution_count": null,
   "id": "c6759003",
   "metadata": {},
   "outputs": [],
   "source": [
    "data_dir = 'cancer'\n",
    "splitfolders.ratio(data_dir, output=\"dataset\", seed=42, ratio=(.8, .2))"
   ]
  },
  {
   "cell_type": "markdown",
   "id": "eb4eb9db",
   "metadata": {},
   "source": [
    "### *generer les images*"
   ]
  },
  {
   "cell_type": "code",
   "execution_count": 3,
   "id": "0822d4c9",
   "metadata": {},
   "outputs": [],
   "source": [
    "#Generateur d images\n",
    "from tensorflow.keras.preprocessing.image import ImageDataGenerator\n",
    "train_datagen = ImageDataGenerator(rescale=1./255,shear_range=0.2,\n",
    "            zoom_range=0.2,horizontal_flip=True)\n",
    "validation_datagen = ImageDataGenerator(rescale=1./255)"
   ]
  },
  {
   "cell_type": "markdown",
   "id": "ebf32b1c",
   "metadata": {},
   "source": [
    "### *chargement des images*"
   ]
  },
  {
   "cell_type": "markdown",
   "id": "7b82de5e",
   "metadata": {},
   "source": [
    "#### *train*"
   ]
  },
  {
   "cell_type": "code",
   "execution_count": 4,
   "id": "4a1574da",
   "metadata": {},
   "outputs": [
    {
     "name": "stdout",
     "output_type": "stream",
     "text": [
      "Found 12000 images belonging to 3 classes.\n"
     ]
    }
   ],
   "source": [
    "training_set = train_datagen.flow_from_directory('dataset/train',\n",
    "    target_size=(64, 64),batch_size=32,class_mode='categorical')"
   ]
  },
  {
   "cell_type": "markdown",
   "id": "7048c844",
   "metadata": {},
   "source": [
    "#### *test*"
   ]
  },
  {
   "cell_type": "code",
   "execution_count": 5,
   "id": "8c72ca7f",
   "metadata": {},
   "outputs": [
    {
     "name": "stdout",
     "output_type": "stream",
     "text": [
      "Found 3000 images belonging to 3 classes.\n"
     ]
    }
   ],
   "source": [
    "validation_set = validation_datagen.flow_from_directory('dataset/val',\n",
    "    target_size=(64, 64),batch_size=32,class_mode='categorical')"
   ]
  },
  {
   "cell_type": "markdown",
   "id": "ad25b822",
   "metadata": {},
   "source": [
    "### *construction du réseau neuronnale*"
   ]
  },
  {
   "cell_type": "code",
   "execution_count": null,
   "id": "3fc7ae5b",
   "metadata": {},
   "outputs": [],
   "source": [
    "classifier=Sequential()\n",
    "classifier.add(Conv2D(32, (3, 3), input_shape=(64, 64, 3), activation='relu'))\n",
    "classifier.add(MaxPooling2D(pool_size=(2, 2)))\n",
    "classifier.add(Conv2D(64, (3, 3), activation='relu'))\n",
    "classifier.add(MaxPooling2D(pool_size=(2, 2)))\n",
    "classifier.add(Conv2D(128, (3, 3), activation='relu'))\n",
    "classifier.add(MaxPooling2D(pool_size=(2, 2)))\n",
    "classifier.add(Flatten())\n",
    "classifier.add(Dense(units=512, activation='relu'))\n",
    "classifier.add(Dense(units=128, activation='relu'))\n",
    "classifier.add(Dense(units=3, activation='softmax'))  # 3 classes for cancer"
   ]
  },
  {
   "cell_type": "markdown",
   "id": "17e5c8a7",
   "metadata": {},
   "source": [
    "### *compilation du modele*"
   ]
  },
  {
   "cell_type": "code",
   "execution_count": 7,
   "id": "d62c32af",
   "metadata": {},
   "outputs": [],
   "source": [
    "classifier.compile(optimizer='adam', loss='categorical_crossentropy', metrics=['accuracy'])"
   ]
  },
  {
   "cell_type": "markdown",
   "id": "8db32c17",
   "metadata": {},
   "source": [
    "### *architecture du modele*"
   ]
  },
  {
   "cell_type": "code",
   "execution_count": 9,
   "id": "2fd0b965",
   "metadata": {},
   "outputs": [
    {
     "name": "stdout",
     "output_type": "stream",
     "text": [
      "Model: \"sequential\"\n",
      "_________________________________________________________________\n",
      " Layer (type)                Output Shape              Param #   \n",
      "=================================================================\n",
      " conv2d (Conv2D)             (None, 62, 62, 32)        896       \n",
      "                                                                 \n",
      " max_pooling2d (MaxPooling2D  (None, 31, 31, 32)       0         \n",
      " )                                                               \n",
      "                                                                 \n",
      " conv2d_1 (Conv2D)           (None, 29, 29, 64)        18496     \n",
      "                                                                 \n",
      " max_pooling2d_1 (MaxPooling  (None, 14, 14, 64)       0         \n",
      " 2D)                                                             \n",
      "                                                                 \n",
      " conv2d_2 (Conv2D)           (None, 12, 12, 128)       73856     \n",
      "                                                                 \n",
      " max_pooling2d_2 (MaxPooling  (None, 6, 6, 128)        0         \n",
      " 2D)                                                             \n",
      "                                                                 \n",
      " flatten (Flatten)           (None, 4608)              0         \n",
      "                                                                 \n",
      " dense (Dense)               (None, 512)               2359808   \n",
      "                                                                 \n",
      " dense_1 (Dense)             (None, 128)               65664     \n",
      "                                                                 \n",
      " dense_2 (Dense)             (None, 3)                 387       \n",
      "                                                                 \n",
      "=================================================================\n",
      "Total params: 2,519,107\n",
      "Trainable params: 2,519,107\n",
      "Non-trainable params: 0\n",
      "_________________________________________________________________\n"
     ]
    }
   ],
   "source": [
    "classifier.summary()"
   ]
  },
  {
   "cell_type": "markdown",
   "id": "12807c06",
   "metadata": {},
   "source": [
    "### *entrainement du modèle*"
   ]
  },
  {
   "cell_type": "code",
   "execution_count": 10,
   "id": "c58f3ef2",
   "metadata": {},
   "outputs": [
    {
     "name": "stdout",
     "output_type": "stream",
     "text": [
      "Epoch 1/10\n",
      "375/375 [==============================] - 309s 812ms/step - loss: 0.4262 - accuracy: 0.8038 - val_loss: 0.2639 - val_accuracy: 0.8990\n",
      "Epoch 2/10\n",
      "375/375 [==============================] - 153s 408ms/step - loss: 0.2593 - accuracy: 0.8978 - val_loss: 0.2150 - val_accuracy: 0.9133\n",
      "Epoch 3/10\n",
      "375/375 [==============================] - 168s 449ms/step - loss: 0.2353 - accuracy: 0.9084 - val_loss: 0.1729 - val_accuracy: 0.9280\n",
      "Epoch 4/10\n",
      "375/375 [==============================] - 146s 388ms/step - loss: 0.1726 - accuracy: 0.9351 - val_loss: 0.2879 - val_accuracy: 0.8807\n",
      "Epoch 5/10\n",
      "375/375 [==============================] - 148s 394ms/step - loss: 0.1704 - accuracy: 0.9336 - val_loss: 0.2278 - val_accuracy: 0.9050\n",
      "Epoch 6/10\n",
      "375/375 [==============================] - 140s 373ms/step - loss: 0.1448 - accuracy: 0.9433 - val_loss: 0.1588 - val_accuracy: 0.9330\n",
      "Epoch 7/10\n",
      "375/375 [==============================] - 153s 408ms/step - loss: 0.1381 - accuracy: 0.9463 - val_loss: 0.1729 - val_accuracy: 0.9213\n",
      "Epoch 8/10\n",
      "375/375 [==============================] - 150s 401ms/step - loss: 0.1436 - accuracy: 0.9436 - val_loss: 0.1366 - val_accuracy: 0.9457\n",
      "Epoch 9/10\n",
      "375/375 [==============================] - 149s 398ms/step - loss: 0.1126 - accuracy: 0.9560 - val_loss: 0.1588 - val_accuracy: 0.9350\n",
      "Epoch 10/10\n",
      "375/375 [==============================] - 150s 399ms/step - loss: 0.0964 - accuracy: 0.9621 - val_loss: 0.1167 - val_accuracy: 0.9517\n"
     ]
    }
   ],
   "source": [
    "model = classifier.fit(training_set, epochs=10, validation_data=validation_set,\n",
    "        verbose=1)"
   ]
  },
  {
   "cell_type": "markdown",
   "id": "35c0612e",
   "metadata": {},
   "source": [
    "### *historique des clés utilisé*"
   ]
  },
  {
   "cell_type": "code",
   "execution_count": 11,
   "id": "faa7d879",
   "metadata": {},
   "outputs": [
    {
     "data": {
      "text/plain": [
       "dict_keys(['loss', 'accuracy', 'val_loss', 'val_accuracy'])"
      ]
     },
     "execution_count": 11,
     "metadata": {},
     "output_type": "execute_result"
    }
   ],
   "source": [
    "model.history.keys()"
   ]
  },
  {
   "cell_type": "code",
   "execution_count": 12,
   "id": "9ad6dd84",
   "metadata": {},
   "outputs": [
    {
     "data": {
      "text/plain": [
       "<matplotlib.legend.Legend at 0x1c5a2e9c510>"
      ]
     },
     "execution_count": 12,
     "metadata": {},
     "output_type": "execute_result"
    },
    {
     "data": {
      "image/png": "[encoded data removed]",
      "text/plain": [
       "<Figure size 640x480 with 1 Axes>"
      ]
     },
     "metadata": {},
     "output_type": "display_data"
    }
   ],
   "source": [
    "plt.plot(model.history['accuracy'])\n",
    "plt.plot(model.history['val_accuracy'])\n",
    "plt.title('Model Accuracy')\n",
    "plt.ylabel('Accuracy')\n",
    "plt.xlabel('Epoch')\n",
    "plt.legend(['Train', 'Validation'], loc='upper left')"
   ]
  },
  {
   "cell_type": "code",
   "execution_count": 13,
   "id": "28560104",
   "metadata": {},
   "outputs": [
    {
     "data": {
      "text/plain": [
       "<matplotlib.legend.Legend at 0x1c5a4decb90>"
      ]
     },
     "execution_count": 13,
     "metadata": {},
     "output_type": "execute_result"
    },
    {
     "data": {
      "image/png": "[encoded data removed]",
      "text/plain": [
       "<Figure size 640x480 with 1 Axes>"
      ]
     },
     "metadata": {},
     "output_type": "display_data"
    }
   ],
   "source": [
    "plt.plot(model.history['loss'])\n",
    "plt.plot(model.history['val_loss'])\n",
    "plt.title('Model loss')\n",
    "plt.ylabel('loss')\n",
    "plt.xlabel('Epoch')\n",
    "plt.legend(['Train', 'Validation'], loc='upper left')"
   ]
  },
  {
   "cell_type": "code",
   "execution_count": 14,
   "id": "78054880",
   "metadata": {},
   "outputs": [
    {
     "data": {
      "text/plain": [
       "{'adenocarcinoma': 0, 'benign': 1, 'squamous_cell_carcinoma': 2}"
      ]
     },
     "execution_count": 14,
     "metadata": {},
     "output_type": "execute_result"
    }
   ],
   "source": [
    "training_set.class_indices"
   ]
  },
  {
   "cell_type": "code",
   "execution_count": 15,
   "id": "47847cdf",
   "metadata": {},
   "outputs": [
    {
     "name": "stdout",
     "output_type": "stream",
     "text": [
      "375/375 [==============================] - 97s 257ms/step\n"
     ]
    },
    {
     "data": {
      "text/plain": [
       "array([0, 1, 0, ..., 1, 1, 2], dtype=int64)"
      ]
     },
     "execution_count": 15,
     "metadata": {},
     "output_type": "execute_result"
    }
   ],
   "source": [
    "y_pred = classifier.predict(training_set)\n",
    "y_pred = np.argmax(y_pred, axis=1)\n",
    "y_pred"
   ]
  },
  {
   "cell_type": "code",
   "execution_count": 16,
   "id": "c09e6016",
   "metadata": {},
   "outputs": [
    {
     "name": "stdout",
     "output_type": "stream",
     "text": [
      "                         precision    recall  f1-score   support\n",
      "\n",
      "         adenocarcinoma       0.32      0.32      0.32      4000\n",
      "                 benign       0.33      0.33      0.33      4000\n",
      "squamous_cell_carcinoma       0.34      0.34      0.34      4000\n",
      "\n",
      "               accuracy                           0.33     12000\n",
      "              macro avg       0.33      0.33      0.33     12000\n",
      "           weighted avg       0.33      0.33      0.33     12000\n",
      "\n"
     ]
    }
   ],
   "source": [
    "from sklearn.metrics import classification_report\n",
    "print(classification_report(training_set.classes, y_pred,\n",
    "    target_names=list(training_set.class_indices.keys())))"
   ]
  },
  {
   "cell_type": "markdown",
   "id": "460bd396",
   "metadata": {},
   "source": [
    "### enrégistrement du model"
   ]
  },
  {
   "cell_type": "code",
   "execution_count": 17,
   "id": "fedf7aec",
   "metadata": {},
   "outputs": [],
   "source": [
    "classifier.save('./model.keras')"
   ]
  }
 ],
 "metadata": {
  "kernelspec": {
   "display_name": "Deep_Learning (3.11.5)",
   "language": "python",
   "name": "python3"
  },
  "language_info": {
   "codemirror_mode": {
    "name": "ipython",
    "version": 3
   },
   "file_extension": ".py",
   "mimetype": "text/x-python",
   "name": "python",
   "nbconvert_exporter": "python",
   "pygments_lexer": "ipython3",
   "version": "3.11.5"
  }
 },
 "nbformat": 4,
 "nbformat_minor": 5
}
